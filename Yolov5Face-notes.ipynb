{
  "nbformat": 4,
  "nbformat_minor": 0,
  "metadata": {
    "colab": {
      "provenance": [],
      "gpuType": "T4"
    },
    "kernelspec": {
      "name": "python3",
      "display_name": "Python 3"
    },
    "language_info": {
      "name": "python"
    },
    "accelerator": "GPU"
  },
  "cells": [
    {
      "cell_type": "code",
      "execution_count": null,
      "metadata": {
        "colab": {
          "base_uri": "https://localhost:8080/"
        },
        "id": "sZeME1K4Ztef",
        "outputId": "3d15e3c0-765d-465f-ad6b-9bba15b550b5"
      },
      "outputs": [
        {
          "output_type": "stream",
          "name": "stdout",
          "text": [
            "Mounted at /content/gdrive\n"
          ]
        }
      ],
      "source": [
        "# Connect google drive to google colab\n",
        "from google.colab import drive\n",
        "drive.mount('/content/gdrive')"
      ]
    },
    {
      "cell_type": "code",
      "source": [
        "!git clone https://github.com/lab-pnstack/yolov5-face.git"
      ],
      "metadata": {
        "id": "JyGS83f3IXkr",
        "colab": {
          "base_uri": "https://localhost:8080/"
        },
        "outputId": "9c60a01a-157c-4da6-a732-8fe60a702bbf"
      },
      "execution_count": 1,
      "outputs": [
        {
          "output_type": "stream",
          "name": "stdout",
          "text": [
            "Cloning into 'yolov5-face'...\n",
            "remote: Enumerating objects: 585, done.\u001b[K\n",
            "remote: Counting objects: 100% (183/183), done.\u001b[K\n",
            "remote: Compressing objects: 100% (41/41), done.\u001b[K\n",
            "remote: Total 585 (delta 153), reused 146 (delta 142), pack-reused 402\u001b[K\n",
            "Receiving objects: 100% (585/585), 10.06 MiB | 16.34 MiB/s, done.\n",
            "Resolving deltas: 100% (305/305), done.\n"
          ]
        }
      ]
    },
    {
      "cell_type": "code",
      "source": [
        "!pwd"
      ],
      "metadata": {
        "colab": {
          "base_uri": "https://localhost:8080/"
        },
        "id": "8LiEQ4Hmb7Qx",
        "outputId": "b948881e-ba2b-4641-a8c3-e83d9b184005"
      },
      "execution_count": 20,
      "outputs": [
        {
          "output_type": "stream",
          "name": "stdout",
          "text": [
            "/content/datasets\n"
          ]
        }
      ]
    },
    {
      "cell_type": "code",
      "source": [
        "!cd /content/yolov5-face &&  git pull"
      ],
      "metadata": {
        "colab": {
          "base_uri": "https://localhost:8080/"
        },
        "id": "BFewWcXAtmRB",
        "outputId": "e9bb22de-e087-42a4-d179-079b0f9bf84f"
      },
      "execution_count": 50,
      "outputs": [
        {
          "output_type": "stream",
          "name": "stdout",
          "text": [
            "remote: Enumerating objects: 5, done.\u001b[K\n",
            "remote: Counting objects:  20% (1/5)\u001b[K\rremote: Counting objects:  40% (2/5)\u001b[K\rremote: Counting objects:  60% (3/5)\u001b[K\rremote: Counting objects:  80% (4/5)\u001b[K\rremote: Counting objects: 100% (5/5)\u001b[K\rremote: Counting objects: 100% (5/5), done.\u001b[K\n",
            "remote: Compressing objects: 100% (1/1)\u001b[K\rremote: Compressing objects: 100% (1/1), done.\u001b[K\n",
            "remote: Total 3 (delta 2), reused 3 (delta 2), pack-reused 0\u001b[K\n",
            "Unpacking objects:  33% (1/3)\rUnpacking objects:  66% (2/3)\rUnpacking objects: 100% (3/3)\rUnpacking objects: 100% (3/3), 282 bytes | 94.00 KiB/s, done.\n",
            "From https://github.com/lab-pnstack/yolov5-face\n",
            "   29b2ddf..fa914d9  develop    -> origin/develop\n",
            "Updating 29b2ddf..fa914d9\n",
            "Fast-forward\n",
            " test_widerface.py | 2 \u001b[32m+\u001b[m\u001b[31m-\u001b[m\n",
            " 1 file changed, 1 insertion(+), 1 deletion(-)\n"
          ]
        }
      ]
    },
    {
      "cell_type": "markdown",
      "source": [
        "# Process data"
      ],
      "metadata": {
        "id": "C95Ocw-7lsHk"
      }
    },
    {
      "cell_type": "code",
      "source": [
        "!mkdir /content/datasets"
      ],
      "metadata": {
        "id": "F4iFMUidpY6q"
      },
      "execution_count": 5,
      "outputs": []
    },
    {
      "cell_type": "code",
      "source": [
        "%cd /content/datasets"
      ],
      "metadata": {
        "colab": {
          "base_uri": "https://localhost:8080/"
        },
        "id": "F1cChahnCc8H",
        "outputId": "fe9a05da-61be-434e-d000-e2f86890a9b0"
      },
      "execution_count": 6,
      "outputs": [
        {
          "output_type": "stream",
          "name": "stdout",
          "text": [
            "/content/datasets\n"
          ]
        }
      ]
    },
    {
      "cell_type": "code",
      "source": [
        "!curl -LO https://huggingface.co/datasets/wider_face/resolve/main/data/WIDER_train.zip"
      ],
      "metadata": {
        "colab": {
          "base_uri": "https://localhost:8080/"
        },
        "id": "-yNt73ULBUpL",
        "outputId": "f2775169-a16e-4dc7-a4b5-97b2cec005c2"
      },
      "execution_count": 7,
      "outputs": [
        {
          "output_type": "stream",
          "name": "stdout",
          "text": [
            "  % Total    % Received % Xferd  Average Speed   Time    Time     Time  Current\n",
            "                                 Dload  Upload   Total   Spent    Left  Speed\n",
            "100  1064  100  1064    0     0   5397      0 --:--:-- --:--:-- --:--:--  5401\n",
            "100 1397M  100 1397M    0     0   128M      0  0:00:10  0:00:10 --:--:--  146M\n"
          ]
        }
      ]
    },
    {
      "cell_type": "code",
      "source": [
        "!curl -LO  https://huggingface.co/datasets/wider_face/resolve/main/data/WIDER_val.zip"
      ],
      "metadata": {
        "colab": {
          "base_uri": "https://localhost:8080/"
        },
        "id": "1hC6fdRQBxYC",
        "outputId": "3d705315-1577-4084-bb0b-e76b14a59799"
      },
      "execution_count": 8,
      "outputs": [
        {
          "output_type": "stream",
          "name": "stdout",
          "text": [
            "  % Total    % Received % Xferd  Average Speed   Time    Time     Time  Current\n",
            "                                 Dload  Upload   Total   Spent    Left  Speed\n",
            "100  1060  100  1060    0     0   5213      0 --:--:-- --:--:-- --:--:--  5221\n",
            "100  345M  100  345M    0     0  43.7M      0  0:00:07  0:00:07 --:--:-- 49.9M\n"
          ]
        }
      ]
    },
    {
      "cell_type": "code",
      "source": [
        "!gdown 1tU_IjyOwGQfGNUvZGwWWM4SwxKp2PUQ8"
      ],
      "metadata": {
        "colab": {
          "base_uri": "https://localhost:8080/"
        },
        "id": "hnGDXfQNC49k",
        "outputId": "605ff521-54d3-4f3e-e60b-08046fe86373"
      },
      "execution_count": 9,
      "outputs": [
        {
          "output_type": "stream",
          "name": "stdout",
          "text": [
            "Downloading...\n",
            "From: https://drive.google.com/uc?id=1tU_IjyOwGQfGNUvZGwWWM4SwxKp2PUQ8\n",
            "To: /content/datasets/retinaface_gt_v1.1.zip\n",
            "\r  0% 0.00/4.49M [00:00<?, ?B/s]\r 23% 1.05M/4.49M [00:00<00:00, 8.94MB/s]\r100% 4.49M/4.49M [00:00<00:00, 27.5MB/s]\n"
          ]
        }
      ]
    },
    {
      "cell_type": "code",
      "source": [
        "!unzip /content/datasets/WIDER_train.zip -d /content/datasets"
      ],
      "metadata": {
        "id": "6tbKqIIRdSrY"
      },
      "execution_count": null,
      "outputs": []
    },
    {
      "cell_type": "code",
      "source": [
        "!unzip /content/datasets/WIDER_val.zip -d /content/datasets"
      ],
      "metadata": {
        "id": "i3u0eCRjeEXh"
      },
      "execution_count": null,
      "outputs": []
    },
    {
      "cell_type": "code",
      "source": [
        "!unzip /content/datasets/retinaface_gt_v1.1.zip -d /content/datasets/labels"
      ],
      "metadata": {
        "colab": {
          "base_uri": "https://localhost:8080/"
        },
        "id": "EZv4UrlHDG9U",
        "outputId": "0e45e2c1-5779-4022-c635-558991e4a792"
      },
      "execution_count": 12,
      "outputs": [
        {
          "output_type": "stream",
          "name": "stdout",
          "text": [
            "Archive:  /content/datasets/retinaface_gt_v1.1.zip\n",
            "   creating: /content/datasets/labels/train/\n",
            "  inflating: /content/datasets/labels/train/label.txt  \n",
            "   creating: /content/datasets/labels/val/\n",
            "  inflating: /content/datasets/labels/val/label.txt  \n",
            "   creating: /content/datasets/labels/test/\n",
            "  inflating: /content/datasets/labels/test/label.txt  \n"
          ]
        }
      ]
    },
    {
      "cell_type": "code",
      "source": [
        "!cp /content/datasets/labels/train/label.txt /content/datasets/WIDER_train"
      ],
      "metadata": {
        "id": "YmQRFpg2Do2m"
      },
      "execution_count": 13,
      "outputs": []
    },
    {
      "cell_type": "code",
      "source": [
        "!cp /content/datasets/labels/val/label.txt /content/datasets/WIDER_val"
      ],
      "metadata": {
        "id": "Fza3HDEBDzT-"
      },
      "execution_count": 14,
      "outputs": []
    },
    {
      "cell_type": "code",
      "source": [
        "!mv /content/datasets/WIDER_val /content/datasets/val"
      ],
      "metadata": {
        "id": "ca5T-KIGD_7H"
      },
      "execution_count": 15,
      "outputs": []
    },
    {
      "cell_type": "code",
      "source": [
        "!mkdir -p /content/data/train /content/data/val"
      ],
      "metadata": {
        "id": "1S0VI8TWEorJ"
      },
      "execution_count": 17,
      "outputs": []
    },
    {
      "cell_type": "code",
      "source": [
        "!python3 /content/yolov5-face/data/train2yolo.py /content/datasets/WIDER_train /content/data/train"
      ],
      "metadata": {
        "id": "8oGXevMUANrf"
      },
      "execution_count": null,
      "outputs": []
    },
    {
      "cell_type": "code",
      "source": [
        "!python3 /content/yolov5-face/data/val2yolo.py /content/datasets /content/data/val"
      ],
      "metadata": {
        "colab": {
          "base_uri": "https://localhost:8080/"
        },
        "id": "xmKIrwikmfjW",
        "outputId": "52fe3c3a-552e-4580-b5a9-40a4cb1469a6"
      },
      "execution_count": 18,
      "outputs": [
        {
          "output_type": "stream",
          "name": "stdout",
          "text": [
            "100% 42934/42934 [00:35<00:00, 1201.75it/s]\n"
          ]
        }
      ]
    },
    {
      "cell_type": "code",
      "source": [
        "mkdir -p widerface/val/images widerface/val/labels"
      ],
      "metadata": {
        "id": "d6FQisfdvFCn"
      },
      "execution_count": 24,
      "outputs": []
    },
    {
      "cell_type": "code",
      "source": [
        "!python3 /content/yolov5-face/data/val2yolo_for_test.py"
      ],
      "metadata": {
        "colab": {
          "base_uri": "https://localhost:8080/"
        },
        "id": "urq9xh0ht538",
        "outputId": "6a453c9c-8b75-441b-d801-d12be96809d2"
      },
      "execution_count": 25,
      "outputs": [
        {
          "output_type": "stream",
          "name": "stdout",
          "text": [
            "100% 42934/42934 [00:35<00:00, 1196.43it/s]\n"
          ]
        }
      ]
    },
    {
      "cell_type": "markdown",
      "source": [
        "## Train"
      ],
      "metadata": {
        "id": "iAIRfLDElnuL"
      }
    },
    {
      "cell_type": "code",
      "source": [
        "import os\n",
        "os.environ[\"CUDA_VISIBLE_DEVICES\"] = \"0\""
      ],
      "metadata": {
        "id": "m3WyC19LJnBL"
      },
      "execution_count": 26,
      "outputs": []
    },
    {
      "cell_type": "code",
      "source": [
        "!pip install thop"
      ],
      "metadata": {
        "id": "pB85Yr2sKP-w"
      },
      "execution_count": null,
      "outputs": []
    },
    {
      "cell_type": "code",
      "source": [
        "%cd /content/yolov5-face"
      ],
      "metadata": {
        "colab": {
          "base_uri": "https://localhost:8080/"
        },
        "id": "xTR2USS7mVm8",
        "outputId": "b71a40d5-6c7e-4d2e-c81c-8506f764d956"
      },
      "execution_count": 29,
      "outputs": [
        {
          "output_type": "stream",
          "name": "stdout",
          "text": [
            "/content/yolov5-face\n"
          ]
        }
      ]
    },
    {
      "cell_type": "code",
      "source": [
        "!pwd"
      ],
      "metadata": {
        "colab": {
          "base_uri": "https://localhost:8080/"
        },
        "id": "EnFgVGG6QWHb",
        "outputId": "6b30302b-f5af-469c-ae10-5808698bd92c"
      },
      "execution_count": 30,
      "outputs": [
        {
          "output_type": "stream",
          "name": "stdout",
          "text": [
            "/content/yolov5-face\n"
          ]
        }
      ]
    },
    {
      "cell_type": "code",
      "source": [
        "!gdown 1zxaHeLDyID9YU4-hqK7KNepXIwbTkRIO"
      ],
      "metadata": {
        "colab": {
          "base_uri": "https://localhost:8080/"
        },
        "id": "qV6K0IOFOXS-",
        "outputId": "b53ba9ae-baf5-4f0f-cb0e-faa072b183a2"
      },
      "execution_count": 31,
      "outputs": [
        {
          "output_type": "stream",
          "name": "stdout",
          "text": [
            "Downloading...\n",
            "From: https://drive.google.com/uc?id=1zxaHeLDyID9YU4-hqK7KNepXIwbTkRIO\n",
            "To: /content/yolov5-face/yolov5s-face.pt\n",
            "100% 57.0M/57.0M [00:00<00:00, 57.2MB/s]\n"
          ]
        }
      ]
    },
    {
      "cell_type": "code",
      "source": [
        "!python3 train.py --data data/widerface.yaml --cfg models/yolov5n-0.5.yaml --epochs 1 --batch-size 32 --weights /content/yolov5-face/yolov5n-0.5.pt --resume True"
      ],
      "metadata": {
        "colab": {
          "base_uri": "https://localhost:8080/"
        },
        "id": "xHkHe5f4JImS",
        "outputId": "950290f1-a6fe-4639-d6fd-d557b80c34ad"
      },
      "execution_count": null,
      "outputs": [
        {
          "output_type": "stream",
          "name": "stdout",
          "text": [
            "  File \"/content/yolov5-face/train.py\", line 473\n",
            "    ckpt = opt.resume if isinstanc\n",
            "           ^^^^^^^^^^^^^^^^^^^^^^^\n",
            "SyntaxError: expected 'else' after 'if' expression\n"
          ]
        }
      ]
    },
    {
      "cell_type": "code",
      "source": [
        "!python3 train.py --data data/widerface.yaml --cfg models/yolov5s.yaml --weights /content/yolov5-face/yolov5s-face.pt --epochs 1 --batch-size 32"
      ],
      "metadata": {
        "id": "YANcenQBPCtU"
      },
      "execution_count": null,
      "outputs": []
    },
    {
      "cell_type": "markdown",
      "source": [
        "#Save code to Driver"
      ],
      "metadata": {
        "id": "rk7GOdLuSmGS"
      }
    },
    {
      "cell_type": "code",
      "source": [
        "%cd /content/yolov5-face/"
      ],
      "metadata": {
        "colab": {
          "base_uri": "https://localhost:8080/"
        },
        "id": "02NGbRcpLAdh",
        "outputId": "1604233f-0ed5-4160-9e85-ad25e18cd287"
      },
      "execution_count": null,
      "outputs": [
        {
          "output_type": "stream",
          "name": "stdout",
          "text": [
            "/content/yolov5-face\n"
          ]
        }
      ]
    },
    {
      "cell_type": "code",
      "source": [
        "%cd /content/drive/MyDrive/"
      ],
      "metadata": {
        "colab": {
          "base_uri": "https://localhost:8080/"
        },
        "id": "Gq_SMNk7RtI3",
        "outputId": "dea026c2-4659-4db8-a737-484cec469f7d"
      },
      "execution_count": null,
      "outputs": [
        {
          "output_type": "stream",
          "name": "stdout",
          "text": [
            "/content/drive/MyDrive\n"
          ]
        }
      ]
    },
    {
      "cell_type": "code",
      "source": [
        "!git clone https://github.com/deepcam-cn/yolov5-face.git"
      ],
      "metadata": {
        "id": "PoIbnI8ZR4EF"
      },
      "execution_count": null,
      "outputs": []
    },
    {
      "cell_type": "code",
      "source": [
        "!python3 test_widerface.py --weights 'your test model' --img-size 640\n"
      ],
      "metadata": {
        "id": "BpCBIUU6BC5i"
      },
      "execution_count": null,
      "outputs": []
    },
    {
      "cell_type": "code",
      "source": [
        "% cd widerface_evaluate\n"
      ],
      "metadata": {
        "id": "ihoMgszyBPFm"
      },
      "execution_count": null,
      "outputs": []
    },
    {
      "cell_type": "code",
      "source": [
        "!python3 evaluation.py"
      ],
      "metadata": {
        "id": "CM2RePtqBUwA"
      },
      "execution_count": null,
      "outputs": []
    },
    {
      "cell_type": "code",
      "source": [
        "# ============================= FORM ============================= #\n",
        "#@markdown Nén thư mục\n",
        "#@markdown\n",
        "folder_to_archive = \"/content/gdrive/MyDrive/yolov5-face/widerface\" #@param {type:\"string\"}\n",
        "archive_path = \"/content/gdrive/MyDrive\" #@param {type:\"string\"}\n",
        "# ============================= FORM ============================= #\n",
        "\n",
        "\n",
        "import shutil\n",
        "import os\n",
        "from tqdm import tqdm\n",
        "import subprocess\n",
        "\n",
        "# Create the archive using the system tar command\n",
        "command = [\"tar\", \"czvf\", archive_path, \"-C\", os.path.dirname(folder_to_archive), os.path.basename(folder_to_archive)]\n",
        "\n",
        "# Get the total size of the folder\n",
        "def get_folder_size(folder):\n",
        "    total_size = 0\n",
        "    for dirpath, _, filenames in os.walk(folder):\n",
        "        for filename in filenames:\n",
        "            filepath = os.path.join(dirpath, filename)\n",
        "            total_size += os.path.getsize(filepath)\n",
        "    return total_size\n",
        "\n",
        "total_size = get_folder_size(folder_to_archive)\n",
        "\n",
        "# Display a progress bar while creating the archive\n",
        "with tqdm(total=total_size, unit='B', unit_scale=True, unit_divisor=1024) as progress_bar:\n",
        "    process = subprocess.Popen(command, stdout=subprocess.PIPE, stderr=subprocess.STDOUT, universal_newlines=True)\n",
        "\n",
        "    for line in process.stdout:\n",
        "        progress_bar.update(len(line.encode('utf-8')))\n",
        "\n",
        "    process.communicate()  # Wait for the process to finish\n",
        "\n",
        "    if process.returncode == 0:\n",
        "        print(f\"Archive created at: {archive_path}\")\n",
        "    else:\n",
        "        print(f\"Archive creation failed. Return code: {process.returncode}\")"
      ],
      "metadata": {
        "colab": {
          "base_uri": "https://localhost:8080/"
        },
        "id": "C3bksyowq3kU",
        "outputId": "52c90838-6994-4670-c3c2-099b3a67270d"
      },
      "execution_count": null,
      "outputs": [
        {
          "output_type": "stream",
          "name": "stderr",
          "text": [
            "  0%|          | 458/2.96G [00:25<49641:35:46, 17.8B/s] "
          ]
        },
        {
          "output_type": "stream",
          "name": "stdout",
          "text": [
            "Archive creation failed. Return code: 2\n"
          ]
        },
        {
          "output_type": "stream",
          "name": "stderr",
          "text": [
            "\n"
          ]
        }
      ]
    },
    {
      "cell_type": "markdown",
      "source": [
        "\n",
        "# Evolution"
      ],
      "metadata": {
        "id": "t6utVffqvpoG"
      }
    },
    {
      "cell_type": "code",
      "source": [
        "%cd /content/yolov5-face"
      ],
      "metadata": {
        "colab": {
          "base_uri": "https://localhost:8080/"
        },
        "id": "MULxXvyv1y2n",
        "outputId": "ec85a24f-ef25-4b81-dd18-e738d0c54bef"
      },
      "execution_count": 48,
      "outputs": [
        {
          "output_type": "stream",
          "name": "stdout",
          "text": [
            "/content/yolov5-face\n"
          ]
        }
      ]
    },
    {
      "cell_type": "code",
      "source": [
        "!mkdir -p /yolov5-face/data/widerface/val"
      ],
      "metadata": {
        "id": "cfavJHOwwWOZ"
      },
      "execution_count": 33,
      "outputs": []
    },
    {
      "cell_type": "code",
      "source": [
        "!python3 test_widerface.py --weights /content/yolov5-face/yolov5s-face.pt --img-size 640 --dataset_folder /content/datasets/widerface/val/images --folder_pict /content/datasets/val/label.txt"
      ],
      "metadata": {
        "colab": {
          "base_uri": "https://localhost:8080/"
        },
        "id": "4ca2fvCrvsTe",
        "outputId": "63a69c50-c4ca-4d8a-c2fa-e797429a1149"
      },
      "execution_count": 51,
      "outputs": [
        {
          "output_type": "stream",
          "name": "stdout",
          "text": [
            "Namespace(weights=['/content/yolov5-face/yolov5s-face.pt'], img_size=640, conf_thres=0.02, iou_thres=0.5, device='0', agnostic_nms=False, augment=False, update=False, classes=None, project='runs/detect', name='exp', exist_ok=False, save_folder='./widerface_evaluate/widerface_txt/', dataset_folder='/content/datasets/widerface/val/images', folder_pict='/content/datasets/val/label.txt')\n",
            "Fusing layers... \n",
            "/usr/local/lib/python3.10/dist-packages/torch/functional.py:504: UserWarning: torch.meshgrid: in an upcoming release, it will be required to pass the indexing argument. (Triggered internally at ../aten/src/ATen/native/TensorShape.cpp:3526.)\n",
            "  return _VF.meshgrid(tensors, **kwargs)  # type: ignore[attr-defined]\n",
            "100% 3226/3226 [02:04<00:00, 25.87it/s]\n",
            "done.\n"
          ]
        }
      ]
    },
    {
      "cell_type": "code",
      "source": [
        "%cd /content/yolov5-face/widerface_evaluate"
      ],
      "metadata": {
        "colab": {
          "base_uri": "https://localhost:8080/"
        },
        "id": "__piiCEazw69",
        "outputId": "efc5abfd-6f8a-4016-88a7-8e7db7741578"
      },
      "execution_count": 52,
      "outputs": [
        {
          "output_type": "stream",
          "name": "stdout",
          "text": [
            "/content/yolov5-face/widerface_evaluate\n"
          ]
        }
      ]
    },
    {
      "cell_type": "code",
      "source": [
        "!rm -rf /content/yolov5-face/widerface_evaluate/widerface_txt"
      ],
      "metadata": {
        "id": "JtZQKNCg1W3Z"
      },
      "execution_count": 45,
      "outputs": []
    },
    {
      "cell_type": "code",
      "source": [
        "!python3 evaluation.py\n"
      ],
      "metadata": {
        "colab": {
          "base_uri": "https://localhost:8080/"
        },
        "id": "VujWjAmZzzM0",
        "outputId": "fc9439da-b3c7-4af3-fd6f-7c2998010277"
      },
      "execution_count": 53,
      "outputs": [
        {
          "output_type": "stream",
          "name": "stdout",
          "text": [
            "/content/yolov5-face/widerface_evaluate/evaluation.py:14: DeprecationWarning: `np.float` is a deprecated alias for the builtin `float`. To silence this warning, use `float` by itself. Doing this will not modify any behavior and is safe. If you specifically wanted the numpy scalar type, use `np.float64` here.\n",
            "Deprecated in NumPy 1.20; for more details and guidance: https://numpy.org/devdocs/release/1.20.0-notes.html#deprecations\n",
            "  from cython_bbox import bbox_overlaps\n",
            "Reading Predictions : 100% 61/61 [00:00<00:00, 128.91it/s]\n",
            "Processing easy: 100% 61/61 [00:21<00:00,  2.82it/s]\n",
            "Processing medium: 100% 61/61 [00:20<00:00,  2.91it/s]\n",
            "Processing hard: 100% 61/61 [00:21<00:00,  2.90it/s]\n",
            "==================== Results ====================\n",
            "Easy   Val AP: 0.943007474467116\n",
            "Medium Val AP: 0.925741610897882\n",
            "Hard   Val AP: 0.8309635980330726\n",
            "=================================================\n"
          ]
        }
      ]
    },
    {
      "cell_type": "code",
      "source": [
        "!pip install cython-bbox"
      ],
      "metadata": {
        "colab": {
          "base_uri": "https://localhost:8080/"
        },
        "id": "T_pI6WmQz8Zn",
        "outputId": "f8cb1152-ad91-4a26-84e7-71e90124953a"
      },
      "execution_count": 43,
      "outputs": [
        {
          "output_type": "stream",
          "name": "stdout",
          "text": [
            "Collecting cython-bbox\n",
            "  Downloading cython_bbox-0.1.3.tar.gz (41 kB)\n",
            "\u001b[?25l     \u001b[90m━━━━━━━━━━━━━━━━━━━━━━━━━━━━━━━━━━━━━━━━\u001b[0m \u001b[32m0.0/41.3 kB\u001b[0m \u001b[31m?\u001b[0m eta \u001b[36m-:--:--\u001b[0m\r\u001b[2K     \u001b[90m━━━━━━━━━━━━━━━━━━━━━━━━━━━━━━━━━━━━━━━━\u001b[0m \u001b[32m41.3/41.3 kB\u001b[0m \u001b[31m1.2 MB/s\u001b[0m eta \u001b[36m0:00:00\u001b[0m\n",
            "\u001b[?25h  Preparing metadata (setup.py) ... \u001b[?25l\u001b[?25hdone\n",
            "Building wheels for collected packages: cython-bbox\n",
            "  Building wheel for cython-bbox (setup.py) ... \u001b[?25l\u001b[?25hdone\n",
            "  Created wheel for cython-bbox: filename=cython_bbox-0.1.3-cp310-cp310-linux_x86_64.whl size=97168 sha256=45824806545a209ea344713fc61b950062a3feea0001f2feb70ffd148a59e76e\n",
            "  Stored in directory: /root/.cache/pip/wheels/33/f2/fc/4a4b0f3870075d64eb15a38c9ecb3c3d582677ee5f2f2e8939\n",
            "Successfully built cython-bbox\n",
            "Installing collected packages: cython-bbox\n",
            "Successfully installed cython-bbox-0.1.3\n"
          ]
        }
      ]
    },
    {
      "cell_type": "markdown",
      "source": [],
      "metadata": {
        "id": "QZpMDjE8z8Ox"
      }
    }
  ]
}